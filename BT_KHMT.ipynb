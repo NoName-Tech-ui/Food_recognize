{
  "nbformat": 4,
  "nbformat_minor": 0,
  "metadata": {
    "colab": {
      "provenance": [],
      "authorship_tag": "ABX9TyNZIjdqwt0TkaQRxfKU04m4",
      "include_colab_link": true
    },
    "kernelspec": {
      "name": "python3",
      "display_name": "Python 3"
    },
    "language_info": {
      "name": "python"
    }
  },
  "cells": [
    {
      "cell_type": "markdown",
      "metadata": {
        "id": "view-in-github",
        "colab_type": "text"
      },
      "source": [
        "<a href=\"https://colab.research.google.com/github/NoName-Tech-ui/Food_recognize/blob/main/BT_KHMT.ipynb\" target=\"_parent\"><img src=\"https://colab.research.google.com/assets/colab-badge.svg\" alt=\"Open In Colab\"/></a>"
      ]
    },
    {
      "cell_type": "code",
      "source": [
        "t= float(input('nhap t:'))\n",
        "g, h0, v0= 9.8, 1.6, 14.2\n",
        "h= h0 + v0*t -0.5*g*t**2\n",
        "v= v0-g*t\n",
        "print(h, v)"
      ],
      "metadata": {
        "id": "q-I3juz8nOm2",
        "colab": {
          "base_uri": "https://localhost:8080/"
        },
        "outputId": "043c6b45-ed10-4e76-e8cd-7762c11c372e"
      },
      "execution_count": null,
      "outputs": [
        {
          "output_type": "stream",
          "name": "stdout",
          "text": [
            "nhap t:0.5\n",
            "7.475 9.299999999999999\n"
          ]
        }
      ]
    },
    {
      "cell_type": "markdown",
      "source": [
        "# Mục mới"
      ],
      "metadata": {
        "id": "xS5r928a7IQl"
      }
    },
    {
      "cell_type": "code",
      "source": [
        "t= float(input('nhap t:'))\n",
        "g, h0, v0= 9.8, 1.6, 14.2\n",
        "h= h0 + v0*t -0.5*g*t**2\n",
        "v= v0-g*t\n",
        "print(h, v)"
      ],
      "metadata": {
        "colab": {
          "base_uri": "https://localhost:8080/"
        },
        "id": "vxCyD4NKRsuw",
        "outputId": "1d9227b7-c43b-483c-fa9e-d9c73696ccc0"
      },
      "execution_count": null,
      "outputs": [
        {
          "output_type": "stream",
          "name": "stdout",
          "text": [
            "nhap t:2.0\n",
            "10.399999999999999 -5.400000000000002\n"
          ]
        }
      ]
    },
    {
      "cell_type": "code",
      "source": [
        "v0, a, z = 10, 2.5, 13/3\n",
        "v= v0*(1-(z/(((a**2) + (z**2))**0.5)))\n",
        "print(type(v))\n",
        "print(v)"
      ],
      "metadata": {
        "colab": {
          "base_uri": "https://localhost:8080/"
        },
        "id": "vAc6yCeISHvM",
        "outputId": "eac5b181-2177-4916-99fe-4a9cbf25ac4c"
      },
      "execution_count": null,
      "outputs": [
        {
          "output_type": "stream",
          "name": "stdout",
          "text": [
            "<class 'float'>\n",
            "1.338144139513996\n"
          ]
        }
      ]
    },
    {
      "cell_type": "code",
      "source": [
        "v0, a, z = 10, 2.5, 26/3\n",
        "v= v0*(1-(z/(((a**2) + (z**2))**0.5)))\n",
        "print(v)"
      ],
      "metadata": {
        "colab": {
          "base_uri": "https://localhost:8080/"
        },
        "id": "9nyj6HaoXFoo",
        "outputId": "05fc7938-dabf-42d0-b897-69ecbb69deec"
      },
      "execution_count": null,
      "outputs": [
        {
          "output_type": "stream",
          "name": "stdout",
          "text": [
            "0.39176408819105335\n"
          ]
        }
      ]
    },
    {
      "cell_type": "code",
      "source": [
        "v0, a, z = 10, 2.5, 26/3\n",
        "z=13\n",
        "v= v0*(1-(z/(((a**2) + (z**2))**0.5)))\n",
        "print(v)"
      ],
      "metadata": {
        "colab": {
          "base_uri": "https://localhost:8080/"
        },
        "id": "6_UurPTQXtPL",
        "outputId": "624a5b81-fe01-41d7-ffe0-ce9d0b6bc8b1"
      },
      "execution_count": null,
      "outputs": [
        {
          "output_type": "stream",
          "name": "stdout",
          "text": [
            "0.17993553019352682\n"
          ]
        }
      ]
    },
    {
      "cell_type": "code",
      "source": [
        "import math\n",
        "a= (2+ (math.e)**(2.8))/(math.sqrt(13) -2)\n",
        "b= (1-(1+math.log(2, math.e))**(-3.5))/(1+math.sqrt(5))\n",
        "c=math.sin((2-math.sqrt(2))/(2+math.sqrt(2)))\n",
        "print(a,b,c)"
      ],
      "metadata": {
        "colab": {
          "base_uri": "https://localhost:8080/"
        },
        "id": "B65MvA22YNmL",
        "outputId": "08093c04-d113-4eda-b7e8-9ee1c52d2366"
      },
      "execution_count": null,
      "outputs": [
        {
          "output_type": "stream",
          "name": "stdout",
          "text": [
            "11.488045914800644 0.26008973689431575 0.17073234104506005\n"
          ]
        }
      ]
    },
    {
      "cell_type": "code",
      "source": [
        "# 5.Tính diện tích tam giác cho biết đáy và chiều cao:\n",
        "day=10\n",
        "cao=12\n",
        "s=(1/2)*day*cao\n",
        "print(s)"
      ],
      "metadata": {
        "colab": {
          "base_uri": "https://localhost:8080/"
        },
        "id": "KwqUXlbReF-D",
        "outputId": "f739b9fc-b527-4e50-b5c3-deb383505a07"
      },
      "execution_count": null,
      "outputs": [
        {
          "output_type": "stream",
          "name": "stdout",
          "text": [
            "60.0\n"
          ]
        }
      ]
    },
    {
      "cell_type": "code",
      "source": [
        "#6. Diện tích bề mặt và thể tích hình trụ\n",
        "import math\n",
        "r=5\n",
        "h=3\n",
        "Sxq= 2*math.pi*r*h\n",
        "V= math.pi*(r**2)*h\n",
        "print(Sxq, V)\n"
      ],
      "metadata": {
        "colab": {
          "base_uri": "https://localhost:8080/"
        },
        "id": "szcJKFWiedi9",
        "outputId": "2468a459-f229-4f33-8fda-0548447f24d4"
      },
      "execution_count": null,
      "outputs": [
        {
          "output_type": "stream",
          "name": "stdout",
          "text": [
            "94.24777960769379 235.61944901923448\n"
          ]
        }
      ]
    },
    {
      "cell_type": "code",
      "source": [
        "#7.\n",
        "X1, Y1, X2, Y2= 3, 4, 5, 9\n",
        "S= (Y2-Y1)/(X2-X1)\n",
        "print(S)"
      ],
      "metadata": {
        "colab": {
          "base_uri": "https://localhost:8080/"
        },
        "id": "zLkqtemxhQFD",
        "outputId": "5b8c8397-da64-4215-eb74-4bd6d4b1713f"
      },
      "execution_count": null,
      "outputs": [
        {
          "output_type": "stream",
          "name": "stdout",
          "text": [
            "2.5\n"
          ]
        }
      ]
    },
    {
      "cell_type": "code",
      "source": [
        "#8.\n",
        "x1, y1, x2, y2= 3, 4, 5, 9\n",
        "d= math.sqrt(((x2-x1)**2)+((y2-y1)**2))\n",
        "print(d)"
      ],
      "metadata": {
        "colab": {
          "base_uri": "https://localhost:8080/"
        },
        "id": "fT7RIorLiEDK",
        "outputId": "87b1dbac-8554-4348-c32d-bc456136eb0a"
      },
      "execution_count": null,
      "outputs": [
        {
          "output_type": "stream",
          "name": "stdout",
          "text": [
            "5.385164807134504\n"
          ]
        }
      ]
    },
    {
      "cell_type": "code",
      "source": [
        "#9. Tính 6!\n",
        "import math\n",
        "a=6\n",
        "print(math.factorial(a))"
      ],
      "metadata": {
        "colab": {
          "base_uri": "https://localhost:8080/"
        },
        "id": "eRdPvBDWkmIo",
        "outputId": "a651e69f-1a30-43e2-d86c-eb633ed8e97f"
      },
      "execution_count": null,
      "outputs": [
        {
          "output_type": "stream",
          "name": "stdout",
          "text": [
            "720\n"
          ]
        }
      ]
    },
    {
      "cell_type": "code",
      "source": [
        "P1 = True\n",
        "P2 = False\n",
        "T1= P1 and (not P1)\n",
        "T2= P2 and (not P2)\n",
        "print(\"If P1 is true,\", \"P1 and (not P1) is\", T1)\n",
        "print(\"If P2 is false,\", \"P2 and (not P2) is\", T2)"
      ],
      "metadata": {
        "id": "_69iRDiDmahV",
        "colab": {
          "base_uri": "https://localhost:8080/"
        },
        "outputId": "0a1ecce8-753e-4095-b7cb-f44d58cbbd31"
      },
      "execution_count": null,
      "outputs": [
        {
          "output_type": "stream",
          "name": "stdout",
          "text": [
            "If P1 is true, P1 and (not P1) is False\n",
            "If P2 is false, P2 and (not P2) is False\n"
          ]
        }
      ]
    },
    {
      "cell_type": "code",
      "source": [
        "import math\n",
        "T= (((math.e)**2)*(math.sin(math.pi/6))+(math.log(3,math.e))*(math.cos(math.pi/9))-(5**3))\n",
        "print(T)"
      ],
      "metadata": {
        "colab": {
          "base_uri": "https://localhost:8080/"
        },
        "id": "Vq3W9vp0Z4BG",
        "outputId": "ccfe6b68-396d-4e1e-d6b8-32b6ab8f85b3"
      },
      "execution_count": null,
      "outputs": [
        {
          "output_type": "stream",
          "name": "stdout",
          "text": [
            "-120.27311408976854\n"
          ]
        }
      ]
    },
    {
      "cell_type": "code",
      "source": [
        "P, Q, a, b = 1, 1, 10, 25\n",
        "T = not(P) and not(Q)\n",
        "print(\"NOT(P) AND NOT(Q) is \", T)\n",
        "D = a<b and a==b\n",
        "print(\"(a<b) AND (a=b) is\", D)"
      ],
      "metadata": {
        "colab": {
          "base_uri": "https://localhost:8080/"
        },
        "id": "NwXLM9LPjStx",
        "outputId": "dcd4b87e-2d72-4218-8c0a-3bbfd228c00a"
      },
      "execution_count": null,
      "outputs": [
        {
          "output_type": "stream",
          "name": "stdout",
          "text": [
            "NOT(P) AND NOT(Q) is  False\n",
            "(a<b) AND (a=b) is False\n"
          ]
        }
      ]
    },
    {
      "cell_type": "code",
      "source": [
        "#1\n",
        "s=\"123\"\n",
        "N=float(s)\n",
        "print(type(s))\n",
        "print(type(N))"
      ],
      "metadata": {
        "colab": {
          "base_uri": "https://localhost:8080/"
        },
        "id": "-mPUS3G-73CZ",
        "outputId": "da621da0-cf21-4db5-8f6b-7fb065e97571"
      },
      "execution_count": null,
      "outputs": [
        {
          "output_type": "stream",
          "name": "stdout",
          "text": [
            "<class 'str'>\n",
            "<class 'float'>\n"
          ]
        }
      ]
    },
    {
      "cell_type": "code",
      "source": [
        "#2\n",
        "s1=\"HELLO\"\n",
        "s2=\"hello\"\n",
        "print(s1.lower()==s2)\n",
        "print(s1==s2.upper())"
      ],
      "metadata": {
        "colab": {
          "base_uri": "https://localhost:8080/"
        },
        "id": "K1E27FcS9Kmh",
        "outputId": "342a3962-7673-4535-c307-75158f73dbb8"
      },
      "execution_count": null,
      "outputs": [
        {
          "output_type": "stream",
          "name": "stdout",
          "text": [
            "True\n",
            "True\n"
          ]
        }
      ]
    },
    {
      "cell_type": "code",
      "source": [
        "#3\n",
        "a,b=\"Engineering\", \"Book\"\n",
        "print('The world \"Engineering\" has',len(a), 'letters')\n",
        "print('The world \"Book\" has',len(b), 'letters')"
      ],
      "metadata": {
        "colab": {
          "base_uri": "https://localhost:8080/"
        },
        "id": "YiWE58Et-P4w",
        "outputId": "f2d1187e-7f47-4d06-83b9-33f813550f92"
      },
      "execution_count": null,
      "outputs": [
        {
          "output_type": "stream",
          "name": "stdout",
          "text": [
            "The world \"Engineering\" has 11 letters\n",
            "The world \"Book\" has 4 letters\n"
          ]
        }
      ]
    },
    {
      "cell_type": "code",
      "source": [
        "#4\n",
        "a=\"Python is great!\"\n",
        "print('Python' in a)"
      ],
      "metadata": {
        "colab": {
          "base_uri": "https://localhost:8080/"
        },
        "id": "1YYFtG-Bk0c7",
        "outputId": "9a196a31-26b2-4035-bbc6-cdd38a79f88a"
      },
      "execution_count": null,
      "outputs": [
        {
          "output_type": "stream",
          "name": "stdout",
          "text": [
            "True\n"
          ]
        }
      ]
    },
    {
      "cell_type": "code",
      "source": [
        "#5\n",
        "a=\"Python is great!\"\n",
        "print(a[10:15])"
      ],
      "metadata": {
        "colab": {
          "base_uri": "https://localhost:8080/"
        },
        "id": "phFCg32C_UN3",
        "outputId": "cbee4307-0fa4-4f09-9eae-d632b3f42462"
      },
      "execution_count": null,
      "outputs": [
        {
          "output_type": "stream",
          "name": "stdout",
          "text": [
            "great\n"
          ]
        }
      ]
    },
    {
      "cell_type": "code",
      "source": [
        "#1\n",
        "import numpy as np\n",
        "r=np.linspace(0,29,9,dtype=int)\n",
        "print(r)\n",
        "print(r**2)\n",
        "#(i)\n",
        "print(r+r)\n",
        "#(ii)\n",
        "print(r*2)"
      ],
      "metadata": {
        "id": "PMSOkBCKaAeC",
        "colab": {
          "base_uri": "https://localhost:8080/"
        },
        "outputId": "db845e81-26c1-4479-e208-aca58d5c62a3"
      },
      "execution_count": null,
      "outputs": [
        {
          "output_type": "stream",
          "name": "stdout",
          "text": [
            "[ 0  3  7 10 14 18 21 25 29]\n",
            "[  0   9  49 100 196 324 441 625 841]\n",
            "[ 0  6 14 20 28 36 42 50 58]\n",
            "[ 0  6 14 20 28 36 42 50 58]\n"
          ]
        }
      ]
    },
    {
      "cell_type": "code",
      "source": [
        "#2\n",
        "#(a)\n",
        "import numpy as np\n",
        "from math import *\n",
        "a=np.ones(100,dtype=int)\n",
        "print(a*e)\n",
        "#(b)\n",
        "b=np.linspace(0,360,361,dtype=int)\n",
        "print(b)\n",
        "#(c)\n",
        "c=np.deg2rad(b)\n",
        "print(c-b*np.pi/180)\n",
        "#(d)\n",
        "d=np.arange(12,17,0.2)\n",
        "print(d)\n",
        "#(e)\n",
        "e=np.arange(12,17.2,0.2)\n",
        "print(e)"
      ],
      "metadata": {
        "colab": {
          "base_uri": "https://localhost:8080/"
        },
        "id": "45ysrnTE_7i4",
        "outputId": "7dfad160-d494-491f-9e07-b301c220e174"
      },
      "execution_count": null,
      "outputs": [
        {
          "output_type": "stream",
          "name": "stdout",
          "text": [
            "[2.71828183 2.71828183 2.71828183 2.71828183 2.71828183 2.71828183\n",
            " 2.71828183 2.71828183 2.71828183 2.71828183 2.71828183 2.71828183\n",
            " 2.71828183 2.71828183 2.71828183 2.71828183 2.71828183 2.71828183\n",
            " 2.71828183 2.71828183 2.71828183 2.71828183 2.71828183 2.71828183\n",
            " 2.71828183 2.71828183 2.71828183 2.71828183 2.71828183 2.71828183\n",
            " 2.71828183 2.71828183 2.71828183 2.71828183 2.71828183 2.71828183\n",
            " 2.71828183 2.71828183 2.71828183 2.71828183 2.71828183 2.71828183\n",
            " 2.71828183 2.71828183 2.71828183 2.71828183 2.71828183 2.71828183\n",
            " 2.71828183 2.71828183 2.71828183 2.71828183 2.71828183 2.71828183\n",
            " 2.71828183 2.71828183 2.71828183 2.71828183 2.71828183 2.71828183\n",
            " 2.71828183 2.71828183 2.71828183 2.71828183 2.71828183 2.71828183\n",
            " 2.71828183 2.71828183 2.71828183 2.71828183 2.71828183 2.71828183\n",
            " 2.71828183 2.71828183 2.71828183 2.71828183 2.71828183 2.71828183\n",
            " 2.71828183 2.71828183 2.71828183 2.71828183 2.71828183 2.71828183\n",
            " 2.71828183 2.71828183 2.71828183 2.71828183 2.71828183 2.71828183\n",
            " 2.71828183 2.71828183 2.71828183 2.71828183 2.71828183 2.71828183\n",
            " 2.71828183 2.71828183 2.71828183 2.71828183]\n",
            "[  0   1   2   3   4   5   6   7   8   9  10  11  12  13  14  15  16  17\n",
            "  18  19  20  21  22  23  24  25  26  27  28  29  30  31  32  33  34  35\n",
            "  36  37  38  39  40  41  42  43  44  45  46  47  48  49  50  51  52  53\n",
            "  54  55  56  57  58  59  60  61  62  63  64  65  66  67  68  69  70  71\n",
            "  72  73  74  75  76  77  78  79  80  81  82  83  84  85  86  87  88  89\n",
            "  90  91  92  93  94  95  96  97  98  99 100 101 102 103 104 105 106 107\n",
            " 108 109 110 111 112 113 114 115 116 117 118 119 120 121 122 123 124 125\n",
            " 126 127 128 129 130 131 132 133 134 135 136 137 138 139 140 141 142 143\n",
            " 144 145 146 147 148 149 150 151 152 153 154 155 156 157 158 159 160 161\n",
            " 162 163 164 165 166 167 168 169 170 171 172 173 174 175 176 177 178 179\n",
            " 180 181 182 183 184 185 186 187 188 189 190 191 192 193 194 195 196 197\n",
            " 198 199 200 201 202 203 204 205 206 207 208 209 210 211 212 213 214 215\n",
            " 216 217 218 219 220 221 222 223 224 225 226 227 228 229 230 231 232 233\n",
            " 234 235 236 237 238 239 240 241 242 243 244 245 246 247 248 249 250 251\n",
            " 252 253 254 255 256 257 258 259 260 261 262 263 264 265 266 267 268 269\n",
            " 270 271 272 273 274 275 276 277 278 279 280 281 282 283 284 285 286 287\n",
            " 288 289 290 291 292 293 294 295 296 297 298 299 300 301 302 303 304 305\n",
            " 306 307 308 309 310 311 312 313 314 315 316 317 318 319 320 321 322 323\n",
            " 324 325 326 327 328 329 330 331 332 333 334 335 336 337 338 339 340 341\n",
            " 342 343 344 345 346 347 348 349 350 351 352 353 354 355 356 357 358 359\n",
            " 360]\n",
            "[ 0.00000000e+00  0.00000000e+00  0.00000000e+00  6.93889390e-18\n",
            "  0.00000000e+00  0.00000000e+00  1.38777878e-17  0.00000000e+00\n",
            "  0.00000000e+00  0.00000000e+00  0.00000000e+00  0.00000000e+00\n",
            "  2.77555756e-17  0.00000000e+00  0.00000000e+00  0.00000000e+00\n",
            "  0.00000000e+00  0.00000000e+00  0.00000000e+00  5.55111512e-17\n",
            "  0.00000000e+00  0.00000000e+00  0.00000000e+00  5.55111512e-17\n",
            "  5.55111512e-17  0.00000000e+00  0.00000000e+00  0.00000000e+00\n",
            "  0.00000000e+00  0.00000000e+00  0.00000000e+00  0.00000000e+00\n",
            "  0.00000000e+00  0.00000000e+00  0.00000000e+00  0.00000000e+00\n",
            "  0.00000000e+00  0.00000000e+00  1.11022302e-16  0.00000000e+00\n",
            "  0.00000000e+00  1.11022302e-16  0.00000000e+00  1.11022302e-16\n",
            "  0.00000000e+00  0.00000000e+00  1.11022302e-16  0.00000000e+00\n",
            "  1.11022302e-16  0.00000000e+00  0.00000000e+00  1.11022302e-16\n",
            "  0.00000000e+00  0.00000000e+00  0.00000000e+00  0.00000000e+00\n",
            "  0.00000000e+00  1.11022302e-16  0.00000000e+00  2.22044605e-16\n",
            "  0.00000000e+00  0.00000000e+00  0.00000000e+00  0.00000000e+00\n",
            "  0.00000000e+00  0.00000000e+00  0.00000000e+00  2.22044605e-16\n",
            "  0.00000000e+00  0.00000000e+00  0.00000000e+00  0.00000000e+00\n",
            "  0.00000000e+00  0.00000000e+00  0.00000000e+00  0.00000000e+00\n",
            "  2.22044605e-16  0.00000000e+00  0.00000000e+00  0.00000000e+00\n",
            "  0.00000000e+00  0.00000000e+00  2.22044605e-16  0.00000000e+00\n",
            "  0.00000000e+00  0.00000000e+00  2.22044605e-16  0.00000000e+00\n",
            "  0.00000000e+00 -2.22044605e-16  0.00000000e+00  0.00000000e+00\n",
            "  2.22044605e-16  2.22044605e-16  0.00000000e+00  0.00000000e+00\n",
            "  2.22044605e-16  0.00000000e+00  0.00000000e+00 -2.22044605e-16\n",
            "  0.00000000e+00  0.00000000e+00  2.22044605e-16  2.22044605e-16\n",
            "  0.00000000e+00  0.00000000e+00  0.00000000e+00  0.00000000e+00\n",
            "  0.00000000e+00  2.22044605e-16  0.00000000e+00  0.00000000e+00\n",
            "  0.00000000e+00  2.22044605e-16  2.22044605e-16  0.00000000e+00\n",
            "  0.00000000e+00  0.00000000e+00  4.44089210e-16  0.00000000e+00\n",
            "  0.00000000e+00  0.00000000e+00  0.00000000e+00  0.00000000e+00\n",
            "  0.00000000e+00  4.44089210e-16  0.00000000e+00  0.00000000e+00\n",
            "  0.00000000e+00  0.00000000e+00  0.00000000e+00 -4.44089210e-16\n",
            "  0.00000000e+00  0.00000000e+00  4.44089210e-16  0.00000000e+00\n",
            "  0.00000000e+00  0.00000000e+00  0.00000000e+00  0.00000000e+00\n",
            "  0.00000000e+00  4.44089210e-16  0.00000000e+00  0.00000000e+00\n",
            "  0.00000000e+00  4.44089210e-16  0.00000000e+00 -4.44089210e-16\n",
            "  0.00000000e+00  0.00000000e+00  0.00000000e+00  0.00000000e+00\n",
            "  4.44089210e-16  0.00000000e+00  0.00000000e+00  0.00000000e+00\n",
            "  0.00000000e+00  4.44089210e-16  0.00000000e+00  0.00000000e+00\n",
            "  0.00000000e+00  4.44089210e-16  0.00000000e+00  4.44089210e-16\n",
            "  4.44089210e-16  0.00000000e+00  0.00000000e+00 -4.44089210e-16\n",
            "  0.00000000e+00  0.00000000e+00  0.00000000e+00  0.00000000e+00\n",
            "  4.44089210e-16  0.00000000e+00  0.00000000e+00  4.44089210e-16\n",
            "  0.00000000e+00  0.00000000e+00 -4.44089210e-16  0.00000000e+00\n",
            "  0.00000000e+00  4.44089210e-16  0.00000000e+00  0.00000000e+00\n",
            "  4.44089210e-16  0.00000000e+00  4.44089210e-16 -4.44089210e-16\n",
            "  0.00000000e+00  0.00000000e+00  0.00000000e+00  0.00000000e+00\n",
            "  4.44089210e-16  0.00000000e+00  0.00000000e+00  4.44089210e-16\n",
            "  0.00000000e+00  4.44089210e-16 -4.44089210e-16  0.00000000e+00\n",
            "  0.00000000e+00  0.00000000e+00  0.00000000e+00  0.00000000e+00\n",
            "  4.44089210e-16  0.00000000e+00  4.44089210e-16  4.44089210e-16\n",
            "  0.00000000e+00  0.00000000e+00  0.00000000e+00  0.00000000e+00\n",
            "  0.00000000e+00  0.00000000e+00  0.00000000e+00  4.44089210e-16\n",
            "  0.00000000e+00  4.44089210e-16  4.44089210e-16  0.00000000e+00\n",
            "  0.00000000e+00 -4.44089210e-16  0.00000000e+00  0.00000000e+00\n",
            "  0.00000000e+00  0.00000000e+00  4.44089210e-16  4.44089210e-16\n",
            "  4.44089210e-16  4.44089210e-16  0.00000000e+00 -8.88178420e-16\n",
            "  0.00000000e+00  0.00000000e+00  0.00000000e+00  0.00000000e+00\n",
            "  8.88178420e-16  0.00000000e+00  0.00000000e+00  0.00000000e+00\n",
            "  0.00000000e+00  0.00000000e+00  0.00000000e+00  0.00000000e+00\n",
            "  0.00000000e+00  8.88178420e-16  0.00000000e+00  0.00000000e+00\n",
            "  0.00000000e+00  0.00000000e+00  8.88178420e-16  0.00000000e+00\n",
            "  0.00000000e+00  0.00000000e+00  0.00000000e+00  0.00000000e+00\n",
            "  0.00000000e+00  0.00000000e+00  0.00000000e+00  8.88178420e-16\n",
            "  0.00000000e+00  0.00000000e+00 -8.88178420e-16  0.00000000e+00\n",
            "  0.00000000e+00  0.00000000e+00  0.00000000e+00  0.00000000e+00\n",
            "  8.88178420e-16  0.00000000e+00  0.00000000e+00  0.00000000e+00\n",
            "  0.00000000e+00  0.00000000e+00  0.00000000e+00  0.00000000e+00\n",
            "  0.00000000e+00  0.00000000e+00  0.00000000e+00  0.00000000e+00\n",
            "  0.00000000e+00  8.88178420e-16  8.88178420e-16  0.00000000e+00\n",
            "  0.00000000e+00 -8.88178420e-16  0.00000000e+00  0.00000000e+00\n",
            "  0.00000000e+00  0.00000000e+00  8.88178420e-16  8.88178420e-16\n",
            "  0.00000000e+00  0.00000000e+00 -8.88178420e-16  0.00000000e+00\n",
            "  0.00000000e+00  0.00000000e+00  0.00000000e+00  8.88178420e-16\n",
            "  0.00000000e+00  0.00000000e+00  0.00000000e+00  0.00000000e+00\n",
            "  8.88178420e-16  0.00000000e+00  0.00000000e+00  0.00000000e+00\n",
            "  0.00000000e+00  0.00000000e+00  0.00000000e+00  0.00000000e+00\n",
            "  0.00000000e+00  8.88178420e-16  8.88178420e-16  0.00000000e+00\n",
            "  0.00000000e+00  0.00000000e+00  0.00000000e+00  0.00000000e+00\n",
            "  0.00000000e+00  0.00000000e+00  8.88178420e-16  0.00000000e+00\n",
            "  0.00000000e+00  0.00000000e+00  8.88178420e-16  0.00000000e+00\n",
            "  8.88178420e-16  0.00000000e+00  0.00000000e+00  0.00000000e+00\n",
            "  0.00000000e+00  0.00000000e+00 -8.88178420e-16  8.88178420e-16\n",
            "  0.00000000e+00  8.88178420e-16  0.00000000e+00  0.00000000e+00\n",
            "  0.00000000e+00  8.88178420e-16  0.00000000e+00 -8.88178420e-16\n",
            "  8.88178420e-16  0.00000000e+00  0.00000000e+00  0.00000000e+00\n",
            "  0.00000000e+00  0.00000000e+00  8.88178420e-16  0.00000000e+00\n",
            "  0.00000000e+00  8.88178420e-16  0.00000000e+00  0.00000000e+00\n",
            " -8.88178420e-16  0.00000000e+00  0.00000000e+00  8.88178420e-16\n",
            "  0.00000000e+00]\n",
            "[12.  12.2 12.4 12.6 12.8 13.  13.2 13.4 13.6 13.8 14.  14.2 14.4 14.6\n",
            " 14.8 15.  15.2 15.4 15.6 15.8 16.  16.2 16.4 16.6 16.8]\n",
            "[12.  12.2 12.4 12.6 12.8 13.  13.2 13.4 13.6 13.8 14.  14.2 14.4 14.6\n",
            " 14.8 15.  15.2 15.4 15.6 15.8 16.  16.2 16.4 16.6 16.8 17. ]\n"
          ]
        }
      ]
    },
    {
      "cell_type": "code",
      "source": [
        "#3\n",
        "#(a)\n",
        "import numpy as np\n",
        "a=np.ones((8,8), dtype=int)\n",
        "a[1:7,1:7:1]=0\n",
        "print(a)\n",
        "#(b)\n",
        "b=np.ones((8,8), dtype=int)\n",
        "b[0:8:2,0:8:2]=0\n",
        "b[1:9:2,1:9:2]=0\n",
        "print(b)\n",
        "#(c)\n",
        "c=np.arange(2,50,5)\n",
        "c[c%3!=0]=-c[c%3!=0]\n",
        "print(c)"
      ],
      "metadata": {
        "colab": {
          "base_uri": "https://localhost:8080/"
        },
        "id": "lDflxnQZFJQC",
        "outputId": "251cfb47-2ce8-4254-b459-2a441c61b6d5"
      },
      "execution_count": null,
      "outputs": [
        {
          "output_type": "stream",
          "name": "stdout",
          "text": [
            "[[1 1 1 1 1 1 1 1]\n",
            " [1 0 0 0 0 0 0 1]\n",
            " [1 0 0 0 0 0 0 1]\n",
            " [1 0 0 0 0 0 0 1]\n",
            " [1 0 0 0 0 0 0 1]\n",
            " [1 0 0 0 0 0 0 1]\n",
            " [1 0 0 0 0 0 0 1]\n",
            " [1 1 1 1 1 1 1 1]]\n",
            "[[0 1 0 1 0 1 0 1]\n",
            " [1 0 1 0 1 0 1 0]\n",
            " [0 1 0 1 0 1 0 1]\n",
            " [1 0 1 0 1 0 1 0]\n",
            " [0 1 0 1 0 1 0 1]\n",
            " [1 0 1 0 1 0 1 0]\n",
            " [0 1 0 1 0 1 0 1]\n",
            " [1 0 1 0 1 0 1 0]]\n",
            "[ -2  -7  12 -17 -22  27 -32 -37  42 -47]\n"
          ]
        }
      ]
    },
    {
      "cell_type": "code",
      "source": [
        "#19\n",
        "import numpy as np\n",
        "from math import *\n",
        "x=np.array([1, 4, 3, 2, 9, 4])\n",
        "y=np.array([2, 3, 4, 1, 2, 3])\n",
        "u=x+y\n",
        "v=x*y\n",
        "w=x/y\n",
        "z=np.sin(x)\n",
        "r=8*np.sin(x)\n",
        "s=5*np.sin(x*y)\n",
        "p=x**y\n",
        "print(\"u=\", u)\n",
        "print(\"v=\", v)\n",
        "print(\"w=\", w)\n",
        "print(\"z=\", z)\n",
        "print(\"r=\", r)\n",
        "print(\"s=\", s)\n",
        "print(\"p=\", p)"
      ],
      "metadata": {
        "colab": {
          "base_uri": "https://localhost:8080/"
        },
        "id": "Azsmu2u7sTR0",
        "outputId": "7b3ff123-18e3-487b-bfd0-3bc27bc6ec03"
      },
      "execution_count": null,
      "outputs": [
        {
          "output_type": "stream",
          "name": "stdout",
          "text": [
            "u= [ 3  7  7  3 11  7]\n",
            "v= [ 2 12 12  2 18 12]\n",
            "w= [0.5        1.33333333 0.75       2.         4.5        1.33333333]\n",
            "z= [ 0.84147098 -0.7568025   0.14112001  0.90929743  0.41211849 -0.7568025 ]\n",
            "r= [ 6.73176788 -6.05441996  1.12896006  7.27437941  3.29694788 -6.05441996]\n",
            "s= [ 4.54648713 -2.68286459 -2.68286459  4.54648713 -3.75493623 -2.68286459]\n",
            "p= [ 1 64 81  2 81 64]\n"
          ]
        }
      ]
    },
    {
      "cell_type": "code",
      "source": [
        "#20\n",
        "b=np.linspace(-10,10,100)\n",
        "print(b)"
      ],
      "metadata": {
        "colab": {
          "base_uri": "https://localhost:8080/"
        },
        "id": "mHSDPZefCPmw",
        "outputId": "1b8107fd-4749-42fe-d798-9f222fb2edeb"
      },
      "execution_count": null,
      "outputs": [
        {
          "output_type": "stream",
          "name": "stdout",
          "text": [
            "[-10.          -9.7979798   -9.5959596   -9.39393939  -9.19191919\n",
            "  -8.98989899  -8.78787879  -8.58585859  -8.38383838  -8.18181818\n",
            "  -7.97979798  -7.77777778  -7.57575758  -7.37373737  -7.17171717\n",
            "  -6.96969697  -6.76767677  -6.56565657  -6.36363636  -6.16161616\n",
            "  -5.95959596  -5.75757576  -5.55555556  -5.35353535  -5.15151515\n",
            "  -4.94949495  -4.74747475  -4.54545455  -4.34343434  -4.14141414\n",
            "  -3.93939394  -3.73737374  -3.53535354  -3.33333333  -3.13131313\n",
            "  -2.92929293  -2.72727273  -2.52525253  -2.32323232  -2.12121212\n",
            "  -1.91919192  -1.71717172  -1.51515152  -1.31313131  -1.11111111\n",
            "  -0.90909091  -0.70707071  -0.50505051  -0.3030303   -0.1010101\n",
            "   0.1010101    0.3030303    0.50505051   0.70707071   0.90909091\n",
            "   1.11111111   1.31313131   1.51515152   1.71717172   1.91919192\n",
            "   2.12121212   2.32323232   2.52525253   2.72727273   2.92929293\n",
            "   3.13131313   3.33333333   3.53535354   3.73737374   3.93939394\n",
            "   4.14141414   4.34343434   4.54545455   4.74747475   4.94949495\n",
            "   5.15151515   5.35353535   5.55555556   5.75757576   5.95959596\n",
            "   6.16161616   6.36363636   6.56565657   6.76767677   6.96969697\n",
            "   7.17171717   7.37373737   7.57575758   7.77777778   7.97979798\n",
            "   8.18181818   8.38383838   8.58585859   8.78787879   8.98989899\n",
            "   9.19191919   9.39393939   9.5959596    9.7979798   10.        ]\n"
          ]
        }
      ]
    },
    {
      "cell_type": "code",
      "source": [
        "#21\n",
        "import numpy as np\n",
        "array_a=np.array([-1, 0, 1, 2, 0, 3])\n",
        "print(array_a[array_a>0])"
      ],
      "metadata": {
        "colab": {
          "base_uri": "https://localhost:8080/"
        },
        "id": "UVYX5Zy_EeAg",
        "outputId": "2a8e4ffa-6e75-484e-d5d6-bd4a51bc613a"
      },
      "execution_count": null,
      "outputs": [
        {
          "output_type": "stream",
          "name": "stdout",
          "text": [
            "[1 2 3]\n"
          ]
        }
      ]
    },
    {
      "cell_type": "code",
      "source": [
        "#22\n",
        "import numpy as np\n",
        "y=np.array([[3, 5, 3],\n",
        "           [2, 2, 5],\n",
        "           [3, 8, 9]])\n",
        "y1=np.transpose(y)\n",
        "print(\"y=\",y)\n",
        "print(\"y1=\",y1)"
      ],
      "metadata": {
        "colab": {
          "base_uri": "https://localhost:8080/"
        },
        "id": "XyvG7gK3FNPH",
        "outputId": "f7ed22b3-2656-4b94-a24e-c6c32f44d767"
      },
      "execution_count": null,
      "outputs": [
        {
          "output_type": "stream",
          "name": "stdout",
          "text": [
            "y= [[3 5 3]\n",
            " [2 2 5]\n",
            " [3 8 9]]\n",
            "y1= [[3 2 3]\n",
            " [5 2 8]\n",
            " [3 5 9]]\n"
          ]
        }
      ]
    },
    {
      "cell_type": "code",
      "source": [
        "#23\n",
        "import numpy as np\n",
        "a=np.zeros((2,4) ,dtype=int)\n",
        "print(\"a23=\",a)\n",
        "#24\n",
        "a[0:2,1:2]=1\n",
        "print(\"a24=\",a)\n"
      ],
      "metadata": {
        "colab": {
          "base_uri": "https://localhost:8080/"
        },
        "id": "soopPx-hGrpV",
        "outputId": "428482d1-9822-467b-ab55-a9b7013a4c0f"
      },
      "execution_count": null,
      "outputs": [
        {
          "output_type": "stream",
          "name": "stdout",
          "text": [
            "a23= [[0 0 0 0]\n",
            " [0 0 0 0]]\n",
            "a24= [[0 1 0 0]\n",
            " [0 1 0 0]]\n"
          ]
        }
      ]
    },
    {
      "cell_type": "code",
      "source": [
        "#T2/21/10/2024:\n",
        "#2\n",
        "import numpy as np\n",
        "def my_checher_board(n):\n",
        "  m=np.zeros((n,n) ,dtype=int)\n",
        "  m[::2,::2]=1\n",
        "  m[1:n+1:2,1:n+1:2]=1\n",
        "  return m\n",
        "print( my_checher_board(4))"
      ],
      "metadata": {
        "colab": {
          "base_uri": "https://localhost:8080/"
        },
        "id": "DrF5nVeBgagD",
        "outputId": "5357cb99-ed87-4c31-f242-5de60f8f3c6e"
      },
      "execution_count": null,
      "outputs": [
        {
          "output_type": "stream",
          "name": "stdout",
          "text": [
            "[[1 0 1 0]\n",
            " [0 1 0 1]\n",
            " [1 0 1 0]\n",
            " [0 1 0 1]]\n"
          ]
        }
      ]
    },
    {
      "cell_type": "code",
      "source": [
        "#4\n",
        "import numpy as np\n",
        "def my_spilt_matrix(m):\n",
        " n=len(m[0])\n",
        " t=(n+1)//2\n",
        " m1=m[:,:t]\n",
        " m2=m[:,t:]\n",
        " return(m1,m2)\n",
        "m=np.array([[1,2,3,4,5],\n",
        "            [0,2,4,6,8],\n",
        "            [1,3,5,7,9],\n",
        "            [9,8,7,6,5]])\n",
        "m1,m2=my_spilt_matrix(m)\n",
        "print(\"m1=\",m1)\n",
        "print(\"m2=\",m2)"
      ],
      "metadata": {
        "id": "8_bOeOak-Qqu",
        "colab": {
          "base_uri": "https://localhost:8080/"
        },
        "outputId": "051331ab-566d-4045-b8c7-417686c0e4fa"
      },
      "execution_count": null,
      "outputs": [
        {
          "output_type": "stream",
          "name": "stdout",
          "text": [
            "m1= [[1 2 3]\n",
            " [0 2 4]\n",
            " [1 3 5]\n",
            " [9 8 7]]\n",
            "m2= [[4 5]\n",
            " [6 8]\n",
            " [7 9]\n",
            " [6 5]]\n"
          ]
        }
      ]
    },
    {
      "cell_type": "code",
      "source": [
        "#6\n",
        "import numpy as np\n",
        "def my_n_odds(a):\n",
        "  c=a[a%2==1]\n",
        "  return c\n",
        "print(len(my_n_odds(np.arange(100))))\n",
        "print(len(my_n_odds(np.arange(2,100,2))))"
      ],
      "metadata": {
        "colab": {
          "base_uri": "https://localhost:8080/"
        },
        "id": "1EauIrTv6tD3",
        "outputId": "7718f934-e60f-4e8d-b85f-ecb8bf60e7b1"
      },
      "execution_count": null,
      "outputs": [
        {
          "output_type": "stream",
          "name": "stdout",
          "text": [
            "50\n",
            "0\n"
          ]
        }
      ]
    },
    {
      "cell_type": "code",
      "source": [
        "#7\n",
        "import numpy as np\n",
        "def my_twos(m,n):\n",
        "   a=2*np.ones((m,n),  dtype=int)\n",
        "   return a\n",
        "print(\"TH1:\", my_twos(3,2))\n",
        "print(\"TH2:\", my_twos(1,4))"
      ],
      "metadata": {
        "colab": {
          "base_uri": "https://localhost:8080/"
        },
        "id": "G0STJQpz9c74",
        "outputId": "6cf06153-a278-4df3-98e4-b7177120f8cd"
      },
      "execution_count": null,
      "outputs": [
        {
          "output_type": "stream",
          "name": "stdout",
          "text": [
            "TH1: [[2 2]\n",
            " [2 2]\n",
            " [2 2]]\n",
            "TH2: [[2 2 2 2]]\n"
          ]
        }
      ]
    },
    {
      "cell_type": "code",
      "source": [
        "#13\n",
        "import numpy as np\n",
        "def dungsaichophep(A, a, dungsai):\n",
        "  A=np.abs(np.array(A)-a)\n",
        "  t=(A<dungsai)*np.arange(len(A))\n",
        "  return t[t>0]\n",
        "print(\"B=\",dungsaichophep([0,1,2,3,4,5],2,1.5))\n",
        "print(\"B=\",dungsaichophep(np.arange(0,1.01,0.01),0.5,0.03))\n",
        "print(\"B=\",dungsaichophep([0,1,2,3],1.5,0.75))"
      ],
      "metadata": {
        "id": "KTlLIuCXM0rX",
        "colab": {
          "base_uri": "https://localhost:8080/"
        },
        "outputId": "5f4d32d5-b577-483c-9dd5-467b72061f89"
      },
      "execution_count": null,
      "outputs": [
        {
          "output_type": "stream",
          "name": "stdout",
          "text": [
            "B= [1 2 3]\n",
            "B= [47 48 49 50 51 52]\n",
            "B= [1 2]\n"
          ]
        }
      ]
    },
    {
      "cell_type": "code",
      "source": [
        "\n",
        "#14\n",
        "import numpy as np\n",
        "def gioihan(A, top, bottom):\n",
        "  A = np.array(A)\n",
        "  A[A <= bottom] = bottom\n",
        "  A[A >= top] = top\n",
        "  return A\n",
        "print(\"B=\",gioihan([0,1,2,3,4,5],4,1))"
      ],
      "metadata": {
        "colab": {
          "base_uri": "https://localhost:8080/"
        },
        "id": "DrPSo0vZ41vF",
        "outputId": "30c4c452-04f4-4096-91cf-027bdfec7e49"
      },
      "execution_count": null,
      "outputs": [
        {
          "output_type": "stream",
          "name": "stdout",
          "text": [
            "B= [1 1 2 3 4 4]\n"
          ]
        }
      ]
    },
    {
      "cell_type": "code",
      "source": [
        "import numpy as np\n",
        "a=np.zeros((4,4), dtype=int)\n",
        "a[1:5:2,1:5:2]=1\n",
        "a[1:5:2,1:5:2]=1\n",
        "print(a)"
      ],
      "metadata": {
        "colab": {
          "base_uri": "https://localhost:8080/"
        },
        "id": "ynIvjBhgVX3s",
        "outputId": "5d68912e-68ac-43e2-dd7f-ed9448d7a1ef"
      },
      "execution_count": null,
      "outputs": [
        {
          "output_type": "stream",
          "name": "stdout",
          "text": [
            "[[0 0 0 0]\n",
            " [0 1 0 1]\n",
            " [0 0 0 0]\n",
            " [0 1 0 1]]\n"
          ]
        }
      ]
    },
    {
      "cell_type": "code",
      "source": [
        "a,b,c=10,50,60\n",
        "if a>b:\n",
        "  if a>c:maxx=a\n",
        "  else: maxx=c\n",
        "else:\n",
        "  if b>c:maxx=b\n",
        "  else:maxx=c\n",
        "print(maxx)"
      ],
      "metadata": {
        "colab": {
          "base_uri": "https://localhost:8080/"
        },
        "id": "mQpwqDmcq-U_",
        "outputId": "ca4ae1b8-c052-45dc-bb16-d62a31fe3370"
      },
      "execution_count": null,
      "outputs": [
        {
          "output_type": "stream",
          "name": "stdout",
          "text": [
            "60\n"
          ]
        }
      ]
    },
    {
      "cell_type": "code",
      "source": [
        "a,b,c=30,10,20\n",
        "maxx=a\n",
        "if maxx<b: maxx=b\n",
        "if maxx<c: maxx=c\n",
        "print(maxx)"
      ],
      "metadata": {
        "colab": {
          "base_uri": "https://localhost:8080/"
        },
        "id": "BcRh5FJs3agy",
        "outputId": "d63cc16b-912c-4af0-e842-f343a2545b50"
      },
      "execution_count": null,
      "outputs": [
        {
          "output_type": "stream",
          "name": "stdout",
          "text": [
            "30\n"
          ]
        }
      ]
    },
    {
      "cell_type": "code",
      "source": [
        "a=int(input(\"nhap a: \"))\n",
        "b=int(input(\"nhap b: \"))\n",
        "c=eval(input(\"nhap c: \"))\n",
        "maxx=a\n",
        "if maxx<b: maxx=b\n",
        "if maxx<c: maxx=c\n",
        "print(maxx)"
      ],
      "metadata": {
        "colab": {
          "base_uri": "https://localhost:8080/"
        },
        "id": "0zVRer_84XLw",
        "outputId": "bd3e62ea-af5c-4a65-ede6-d87005b8025d"
      },
      "execution_count": null,
      "outputs": [
        {
          "output_type": "stream",
          "name": "stdout",
          "text": [
            "nhap a: 3\n",
            "nhap b: 1\n",
            "nhap c: 10\n",
            "10\n"
          ]
        }
      ]
    },
    {
      "cell_type": "code",
      "source": [
        "#T2/28/10/2024\n",
        "#2\n",
        "def my_mult_operation(a,b,operation):\n",
        "  if operation == \"plus\":return a + b\n",
        "  elif operation == \"minus\":\n",
        "    return a - b\n",
        "  elif operation == \"mult\":\n",
        "    return a * b\n",
        "  elif operation == \"div\":\n",
        "    if b == 0:\n",
        "      return \"ERROR!!!\"\n",
        "    else:\n",
        "      return a / b\n",
        "  elif operation == \"pow\":\n",
        "    if a==0:\n",
        "      return \"ERROR!!!\"\n",
        "    else:\n",
        "      return a ** b\n",
        "  else:\n",
        "    return \"ERROR!!!\"\n",
        "a=eval(input(\"a= \"))\n",
        "b=eval(input(\"b= \"))\n",
        "print(\"a+b=\", my_mult_operation(a, b, \"plus\"))\n",
        "print(\"a-b=\", my_mult_operation(a, b, \"minus\"))\n",
        "print(\"a*b=\", my_mult_operation(a, b, \"mult\"))\n",
        "print(\"a/b=\", my_mult_operation(a, b, \"div\"))\n",
        "print(\"a**b=\", my_mult_operation(a, b, \"pow\"))"
      ],
      "metadata": {
        "colab": {
          "base_uri": "https://localhost:8080/"
        },
        "id": "Ag2b9LxFFPAK",
        "outputId": "cc2a2280-abe7-4a83-dd72-e089850ffc17"
      },
      "execution_count": null,
      "outputs": [
        {
          "output_type": "stream",
          "name": "stdout",
          "text": [
            "a= 6\n",
            "b= 0\n",
            "a+b= 6\n",
            "a-b= 6\n",
            "a*b= 0\n",
            "a/b= ERROR!!!\n",
            "a**b= 1\n"
          ]
        }
      ]
    },
    {
      "cell_type": "code",
      "source": [
        "#6\n",
        "def my_letter_grader(percent):\n",
        "  if percent>97: return \"A+\"\n",
        "  elif percent>93: return \"A\"\n",
        "  elif percent>90: return \"A-\"\n",
        "  elif percent>87: return \"B+\"\n",
        "  elif percent>83: return \"B\"\n",
        "  elif percent>80: return \"B-\"\n",
        "  elif percent>77: return \"C+\"\n",
        "  elif percent>73: return \"C\"\n",
        "  elif percent>70: return \"C-\"\n",
        "  elif percent>67: return \"D+\"\n",
        "  elif percent>63: return \"D\"\n",
        "  elif percent>60: return \"D-\"\n",
        "  else: return \"F\"\n",
        "percent = float(input(\"percent=\"))\n",
        "print(\"grade:\" ,my_letter_grader(percent))"
      ],
      "metadata": {
        "colab": {
          "base_uri": "https://localhost:8080/"
        },
        "id": "32sO9UoPK3K4",
        "outputId": "3faa1b06-6e0b-49a5-b4f1-068082c22372"
      },
      "execution_count": null,
      "outputs": [
        {
          "output_type": "stream",
          "name": "stdout",
          "text": [
            "percent=93\n",
            "grade: A-\n"
          ]
        }
      ]
    },
    {
      "cell_type": "code",
      "source": [
        "#7\n",
        "def my_nuke_alarm(s1,s2,s3):\n",
        "  if abs(s1-s2)>=10: return \"Alarm!!!\"\n",
        "  if abs(s2-s3)>=10: return \"Alarm!!!\"\n",
        "  if abs(s1-s3)>=10: return \"Alarm!!!\"\n",
        "  else: return \"Normal\"\n",
        "s1=eval(input(\"s1:\"))\n",
        "s2=eval(input(\"s2:\"))\n",
        "s3=eval(input(\"s3:\"))\n",
        "print(my_nuke_alarm(s1,s2,s3))"
      ],
      "metadata": {
        "colab": {
          "base_uri": "https://localhost:8080/"
        },
        "id": "yj3r1zyTMVXz",
        "outputId": "670bd602-657c-4eb3-810f-f0c9d5e2a3fd"
      },
      "execution_count": null,
      "outputs": [
        {
          "output_type": "stream",
          "name": "stdout",
          "text": [
            "s1:23\n",
            "s2:31\n",
            "s3:10\n",
            "Alarm!!!\n"
          ]
        }
      ]
    },
    {
      "cell_type": "code",
      "source": [
        "#8\n",
        "from math import *\n",
        "def my_n_roots(a,b,c):\n",
        "  delta = b**2-4*a*c\n",
        "  if delta > 0:\n",
        "    x1 = (-b+sqrt(delta))/(2*a)\n",
        "    x2 = (-b-sqrt(delta))/(2*a)\n",
        "    r=[x1, x2]\n",
        "    n_roots=2\n",
        "    return n_roots, r\n",
        "  elif delta == 0:\n",
        "    r = -b/(2*a)\n",
        "    n_roots=1\n",
        "    return n_roots, [r]\n",
        "  else: return -2\n",
        "a=eval(input(\"a:\"))\n",
        "b=eval(input(\"b:\"))\n",
        "c=eval(input(\"c:\"))\n",
        "print(my_n_roots(a,b,c))"
      ],
      "metadata": {
        "colab": {
          "base_uri": "https://localhost:8080/"
        },
        "id": "HF51Ip__a8DX",
        "outputId": "15fcf722-d51b-4439-9534-3db7f1dbf705"
      },
      "execution_count": null,
      "outputs": [
        {
          "output_type": "stream",
          "name": "stdout",
          "text": [
            "a:2\n",
            "b:3\n",
            "c:1\n",
            "(2, [-0.5, -1.0])\n"
          ]
        }
      ]
    },
    {
      "cell_type": "code",
      "source": [
        "#3\n",
        "def my_inside_triangle(x, y):\n",
        " if 0<=x<=1 and 0<=y<=1:\n",
        "  if x==0 and y<=1: return \"border\"\n",
        "  if y==0 and x<=1: return \"boder\"\n",
        "  if x==y==0: \"border\"\n",
        "  if x==y==1: return \"outside\"\n",
        "  else: return \"inside\"\n",
        " else: return \"outside\"\n",
        "x=eval(input(\"x=\"))\n",
        "y=eval(input(\"y=\"))\n",
        "print(my_inside_triangle(x, y))"
      ],
      "metadata": {
        "colab": {
          "base_uri": "https://localhost:8080/"
        },
        "id": "-NLHM5yHiAIz",
        "outputId": "1e23eab3-441b-4f29-dfbd-d2b48bcf562e"
      },
      "execution_count": null,
      "outputs": [
        {
          "output_type": "stream",
          "name": "stdout",
          "text": [
            "x=1\n",
            "y=3\n",
            "outside\n"
          ]
        }
      ]
    },
    {
      "cell_type": "code",
      "source": [
        "#4\n",
        "def my_make_size10(x):\n",
        "  if len(x)>=10: return x[:10]\n",
        "  else: return x + [0] * (10 - len(x))\n",
        "x=eval(input(\"x=\"))\n",
        "print(my_make_size10(x))"
      ],
      "metadata": {
        "colab": {
          "base_uri": "https://localhost:8080/"
        },
        "id": "LBWtugjE-C4n",
        "outputId": "3ebb421a-1f68-4feb-af4a-b4cff1f9e1e7"
      },
      "execution_count": null,
      "outputs": [
        {
          "output_type": "stream",
          "name": "stdout",
          "text": [
            "x=[1,2,3,4,5,6,7,8,9,11,12,13,15]\n",
            "[1, 2, 3, 4, 5, 6, 7, 8, 9, 11]\n"
          ]
        }
      ]
    },
    {
      "cell_type": "code",
      "source": [
        "#T2/11/11/2024:\n",
        "#2\n",
        "import numpy as np\n",
        "def my_max(x):\n",
        "  maxx=x[0]\n",
        "  for i in x:\n",
        "   if maxx<i:maxx=i\n",
        "  return maxx\n",
        "print(my_max(np.array([0,3,4,5,63,3,2,4])))"
      ],
      "metadata": {
        "colab": {
          "base_uri": "https://localhost:8080/"
        },
        "id": "Uq2GCs__PTK7",
        "outputId": "d9a1dba1-6057-4943-ddaf-88d1ec90f328"
      },
      "execution_count": null,
      "outputs": [
        {
          "output_type": "stream",
          "name": "stdout",
          "text": [
            "63\n"
          ]
        }
      ]
    },
    {
      "cell_type": "code",
      "source": [
        "#3\n",
        "def my_n_max(x, n):\n",
        "  if n<=0: return \"ERROR\"\n",
        "  if n>len(x): \"ERROR\"\n",
        "  result = []\n",
        "  for i in range(n):\n",
        "    maxx = max(x)\n",
        "    result.append(maxx)\n",
        "    x.remove(maxx)\n",
        "  return result\n",
        "print(my_n_max([1,2,3,5,3,522,42,32,9], 3))"
      ],
      "metadata": {
        "colab": {
          "base_uri": "https://localhost:8080/"
        },
        "id": "tvYhQT2GTyUZ",
        "outputId": "bd49b6d0-bcf5-41b7-8f4d-6a3a8d688dc7"
      },
      "execution_count": null,
      "outputs": [
        {
          "output_type": "stream",
          "name": "stdout",
          "text": [
            "[522, 42, 32]\n"
          ]
        }
      ]
    },
    {
      "cell_type": "code",
      "source": [
        "#4\n",
        "from numpy import *\n",
        "def my_trig_odd_even(m):\n",
        "   q = np.zeros_like(m, dtype=float)\n",
        "   for i in range(m.shape[0]):\n",
        "    for j in range(m.shape[1]):\n",
        "      if m[i, j] % 2 == 0:\n",
        "        q[i, j] = sin(m[i, j])\n",
        "      else:\n",
        "        q[i, j] = cos(m[i, j])\n",
        "   return q\n",
        "print(my_trig_odd_even(np.array([[1,2,4,6,7,8],\n",
        "                                 [1,2,4,6,3,1],\n",
        "                                 [3,2,4,2,4,3],\n",
        "                                 [3,5,2,5,1,5]])))"
      ],
      "metadata": {
        "id": "2AfHr6EnYIC-",
        "colab": {
          "base_uri": "https://localhost:8080/"
        },
        "outputId": "29f06888-9dcb-499a-8b8a-1acc588a7b85"
      },
      "execution_count": null,
      "outputs": [
        {
          "output_type": "stream",
          "name": "stdout",
          "text": [
            "[[ 0.54030231  0.90929743 -0.7568025  -0.2794155   0.75390225  0.98935825]\n",
            " [ 0.54030231  0.90929743 -0.7568025  -0.2794155  -0.9899925   0.54030231]\n",
            " [-0.9899925   0.90929743 -0.7568025   0.90929743 -0.7568025  -0.9899925 ]\n",
            " [-0.9899925   0.28366219  0.90929743  0.28366219  0.54030231  0.28366219]]\n"
          ]
        }
      ]
    },
    {
      "cell_type": "code",
      "source": [
        "#6\n",
        "def my_saving_plan(P0, i, goal):\n",
        "  n = 0\n",
        "  while P0 < goal:\n",
        "    P0 *= (1 + i/100)\n",
        "    n += 1\n",
        "  return n\n",
        "print(\"The number of years will takes:\", my_saving_plan(1000, 7, 2000))"
      ],
      "metadata": {
        "id": "vi-jSDxUaDk-",
        "colab": {
          "base_uri": "https://localhost:8080/"
        },
        "outputId": "236b9cac-e7ca-4796-c4d6-29000e552832"
      },
      "execution_count": null,
      "outputs": [
        {
          "output_type": "stream",
          "name": "stdout",
          "text": [
            "The number of years will takes: 11\n"
          ]
        }
      ]
    },
    {
      "cell_type": "code",
      "source": [
        "#8\n",
        "from random import randint\n",
        "def my_monopoly_dice():\n",
        "  total = 0\n",
        "  while True:\n",
        "    dice1 = randint(1, 6)\n",
        "    dice2 = randint(1, 6)\n",
        "    total += dice1 + dice2\n",
        "    if dice1 != dice2:\n",
        "      break\n",
        "  return total\n",
        "print(\"Totals:\", my_monopoly_dice())"
      ],
      "metadata": {
        "id": "h81jVJDqe66r",
        "colab": {
          "base_uri": "https://localhost:8080/"
        },
        "outputId": "9f0c1ffb-bb3c-4bb5-8999-7b132ceebb72"
      },
      "execution_count": null,
      "outputs": [
        {
          "output_type": "stream",
          "name": "stdout",
          "text": [
            "Totals: 11\n"
          ]
        }
      ]
    },
    {
      "cell_type": "code",
      "source": [
        "#1\n",
        "def so_chan_lon_nhat():\n",
        "  while True:\n",
        "    n = int(input(\"nhap n nguyen duong: \"))\n",
        "    if n <= 0:\n",
        "      print(\"nhap lai\")\n",
        "    so_chan=[]\n",
        "    i=0\n",
        "    for i in range(n):\n",
        "      a = int(input(f\"nhap so nguyen thu {i+1}: \"))\n",
        "      if a % 2 == 0: so_chan.append(a)\n",
        "    if so_chan: print(\"so chan lon nhat la:\", max(so_chan))\n",
        "    else: print(\"ko co so chan\")\n",
        "    tiep_tuc = input(\"ban muon tiep tuc ko?(nhan y de tiep tuc): \")\n",
        "    if tiep_tuc != 'y':\n",
        "      break\n",
        "print(so_chan_lon_nhat())"
      ],
      "metadata": {
        "colab": {
          "base_uri": "https://localhost:8080/"
        },
        "id": "f1iaZkk492KK",
        "outputId": "45a71e81-a197-4f6d-d25d-162d153d95a6"
      },
      "execution_count": null,
      "outputs": [
        {
          "output_type": "stream",
          "name": "stdout",
          "text": [
            "nhap n nguyen duong: 4\n",
            "nhap so nguyen thu 1: 23\n",
            "nhap so nguyen thu 2: 65\n",
            "nhap so nguyen thu 3: 67\n",
            "nhap so nguyen thu 4: 4\n",
            "so chan lon nhat la: 4\n",
            "ban muon tiep tuc ko?(nhan y de tiep tuc): y\n",
            "nhap n nguyen duong: 6\n",
            "nhap so nguyen thu 1: 6\n",
            "nhap so nguyen thu 2: 5\n",
            "nhap so nguyen thu 3: 4\n",
            "nhap so nguyen thu 4: 3\n",
            "nhap so nguyen thu 5: 8\n",
            "nhap so nguyen thu 6: 43\n",
            "so chan lon nhat la: 8\n",
            "ban muon tiep tuc ko?(nhan y de tiep tuc): n\n",
            "None\n"
          ]
        }
      ]
    },
    {
      "cell_type": "code",
      "source": [
        "#2a\n",
        "def so_lan_xuat_hien(a):\n",
        "  dem={}\n",
        "  for i in a:\n",
        "    if i.isalpha():\n",
        "      i=i.lower()\n",
        "      if i in dem:\n",
        "        dem[i]+=1\n",
        "      else: dem[i]=1\n",
        "  return dem\n",
        "print(so_lan_xuat_hien(\"Lap trinh Python va AI - Truong Cong nghe va thiet ke - Dai Hoc UEH Thanh Pho Ho Chi Minh.\"))"
      ],
      "metadata": {
        "colab": {
          "base_uri": "https://localhost:8080/"
        },
        "id": "pEwqC04CQ_9H",
        "outputId": "459397f7-32bf-44c2-9849-ef61a732be13"
      },
      "execution_count": null,
      "outputs": [
        {
          "output_type": "stream",
          "name": "stdout",
          "text": [
            "{'l': 1, 'a': 6, 'p': 3, 't': 6, 'r': 2, 'i': 6, 'n': 7, 'h': 12, 'y': 1, 'o': 6, 'v': 2, 'u': 2, 'g': 3, 'c': 3, 'e': 4, 'k': 1, 'd': 1, 'm': 1}\n"
          ]
        }
      ]
    },
    {
      "cell_type": "code",
      "source": [
        "#2b\n",
        "def so_lan_xuat_hien_tu(a):\n",
        "  tu = a.split()\n",
        "  dem = {}\n",
        "  for i in tu:\n",
        "    i = i.lower()\n",
        "    if i in dem:\n",
        "      dem[i] += 1\n",
        "    else:\n",
        "      dem[i] = 1\n",
        "  return dem\n",
        "print(so_lan_xuat_hien_tu(\"Lap trinh Python va AI - Truong Cong nghe va thiet ke - Dai Hoc UEH Thanh Pho Ho Chi Minh.\"))\n"
      ],
      "metadata": {
        "colab": {
          "base_uri": "https://localhost:8080/"
        },
        "id": "kBWu3vnLXeyZ",
        "outputId": "27a430ff-ddd7-4d92-bcca-7782e3167323"
      },
      "execution_count": null,
      "outputs": [
        {
          "output_type": "stream",
          "name": "stdout",
          "text": [
            "{'lap': 1, 'trinh': 1, 'python': 1, 'va': 2, 'ai': 1, '-': 2, 'truong': 1, 'cong': 1, 'nghe': 1, 'thiet': 1, 'ke': 1, 'dai': 1, 'hoc': 1, 'ueh': 1, 'thanh': 1, 'pho': 1, 'ho': 1, 'chi': 1, 'minh.': 1}\n"
          ]
        }
      ]
    },
    {
      "cell_type": "code",
      "source": [
        "#3\n",
        "def kt_mk(mk):\n",
        "  if len(mk) < 8:\n",
        "        return False\n",
        "  chu_cai = False\n",
        "  chu_so = False\n",
        "  ky_tu_db = False\n",
        "  for i in mk:\n",
        "      if i.isalpha():\n",
        "          chu_cai = True\n",
        "      elif i.isdigit():\n",
        "          chu_so = True\n",
        "      elif i in \"!@#$%^&*\":\n",
        "          ky_tu_db = True\n",
        "  return chu_cai and chu_so and ky_tu_db\n",
        "mk=input(\"nhap mat khau:\")\n",
        "if kt_mk(mk):print(\"mk manh\")\n",
        "else:print(\"mk yeu\")"
      ],
      "metadata": {
        "colab": {
          "base_uri": "https://localhost:8080/"
        },
        "id": "q8XF79Y_cyOA",
        "outputId": "5b855b58-4532-4475-a329-8ee6cad213a5"
      },
      "execution_count": null,
      "outputs": [
        {
          "output_type": "stream",
          "name": "stdout",
          "text": [
            "nhap mat khau:kjsfakfjjdls@$325\n",
            "mk manh\n"
          ]
        }
      ]
    },
    {
      "cell_type": "code",
      "source": [
        "def quan_ly_hang_hoa():\n",
        "    hang_hoa = {}\n",
        "    while True:\n",
        "        print(\"1. Nhập thêm hàng hóa\")\n",
        "        print(\"2. Thống kê số lượng\")\n",
        "        print(\"3. Thoát\")\n",
        "        chon = int(input(\"Chọn chức năng: \"))\n",
        "\n",
        "        if chon == 1:\n",
        "            ten_hang = input(\"Nhập tên hàng hóa: \")\n",
        "            so_luong = int(input(\"Nhập số lượng: \"))\n",
        "            if ten_hang in hang_hoa:\n",
        "                hang_hoa[ten_hang] += so_luong\n",
        "            else:\n",
        "                hang_hoa[ten_hang] = so_luong\n",
        "            print(\"Đã cập nhật thông tin hàng hóa.\")\n",
        "\n",
        "        elif chon == 2:\n",
        "            print(\"Thống kê số lượng hàng hóa:\")\n",
        "            for hang, so_luong in hang_hoa.items():\n",
        "                print(f\"{hang}: {so_luong}\")\n",
        "\n",
        "        elif chon == 3:\n",
        "            break\n",
        "\n",
        "        else:\n",
        "            print(\"Lựa chọn không hợp lệ. Vui lòng chọn lại.\")\n",
        "\n",
        "if __name__ == \"__main__\":\n",
        "    quan_ly_hang_hoa()"
      ],
      "metadata": {
        "id": "HlCJkOtvhp88"
      },
      "execution_count": null,
      "outputs": []
    },
    {
      "cell_type": "code",
      "source": [
        "def F(a, b=0):\n",
        "    tong = 0\n",
        "    for x in a:\n",
        "        if x == 0:\n",
        "            tong = 1\n",
        "        else:\n",
        "            tong = tong + x**b\n",
        "    return tong\n",
        "\n",
        "A = F([0])\n",
        "B = F([1, 2, 3])\n",
        "C = F([1, 2, 3], 2)\n",
        "print(A,B,C)"
      ],
      "metadata": {
        "colab": {
          "base_uri": "https://localhost:8080/"
        },
        "id": "CaMa8r1Ydhsw",
        "outputId": "9f2eaff0-40ed-4442-d40e-9f387fac3c54"
      },
      "execution_count": null,
      "outputs": [
        {
          "output_type": "stream",
          "name": "stdout",
          "text": [
            "1 3 14\n"
          ]
        }
      ]
    },
    {
      "cell_type": "code",
      "source": [
        "import java.util.Random;\n",
        "\n",
        "public class SaTsp {\n",
        "\n",
        "    private double[][] costMatrix;\n",
        "    private int numOfCity;\n",
        "    private double T, pi, epsilon;\n",
        "\n",
        "    // Constructor to initialize the parameters and start the simulated annealing algorithm\n",
        "    public SaTsp(double[][] cost, double T, double pi, double epsilon) {\n",
        "        this.costMatrix = cost;\n",
        "        this.T = T;\n",
        "        this.pi = pi;\n",
        "        this.epsilon = epsilon;\n",
        "        this.numOfCity = this.costMatrix.length;\n",
        "        sa();\n",
        "    }\n",
        "\n",
        "    // Simulated annealing algorithm to find the minimum traveling cost\n",
        "    private void sa() {\n",
        "        long t0 = System.currentTimeMillis();\n",
        "        int[] currentSolution = initialSolution();\n",
        "        int[] bestSolution = copy(currentSolution);\n",
        "        double bestCost = fit(bestSolution);\n",
        "        double currentCost = bestCost;\n",
        "        Random random = new Random();\n",
        "\n",
        "        while (T >= epsilon) {\n",
        "            int[] neighborSolution = generateNeighbor(currentSolution);\n",
        "            double neighborCost = fit(neighborSolution);\n",
        "\n",
        "            if (neighborCost < currentCost || (random.nextDouble() < Math.exp((currentCost - neighborCost) / T))) {\n",
        "                currentSolution = copy(neighborSolution);\n",
        "                currentCost = neighborCost;\n",
        "            }\n",
        "\n",
        "            if (currentCost < bestCost) {\n",
        "                bestCost = currentCost;\n",
        "                bestSolution = copy(currentSolution);\n",
        "                displayBestSolution(bestSolution, bestCost, t0);\n",
        "            }\n",
        "\n",
        "            T *= pi;\n",
        "        }\n",
        "    }\n",
        "\n",
        "    // Calculates the fitness (total cost) of a solution path\n",
        "    private double fit(int[] solution) {\n",
        "        double totalCost = 0;\n",
        "        for (int i = 0; i < solution.length - 1; i++) {\n",
        "            totalCost += this.costMatrix[solution[i]][solution[i + 1]];\n",
        "        }\n",
        "        totalCost += this.costMatrix[solution[solution.length - 1]][solution[0]];\n",
        "        return totalCost;\n",
        "    }\n",
        "\n",
        "    // Generates an initial random solution\n",
        "    private int[] initialSolution() {\n",
        "        int[] solution = new int[this.numOfCity];\n",
        "        for (int i = 0; i < solution.length; i++) {\n",
        "            solution[i] = i;\n",
        "        }\n",
        "        shuffleArray(solution);\n",
        "        return solution;\n",
        "    }\n",
        "\n",
        "    // Generates a neighboring solution by swapping two cities in the current solution\n",
        "    private int[] generateNeighbor(int[] solution) {\n",
        "        int[] neighbor = copy(solution);\n",
        "        Random random = new Random();\n",
        "        int a = random.nextInt(neighbor.length);\n",
        "        int b = random.nextInt(neighbor.length);\n",
        "        int temp = neighbor[a];\n",
        "        neighbor[a] = neighbor[b];\n",
        "        neighbor[b] = temp;\n",
        "        return neighbor;\n",
        "    }\n",
        "\n",
        "    // Shuffles the array randomly to create an initial solution\n",
        "    private void shuffleArray(int[] array) {\n",
        "        Random random = new Random();\n",
        "        for (int i = array.length - 1; i > 0; i--) {\n",
        "            int j = random.nextInt(i + 1);\n",
        "            int temp = array[i];\n",
        "            array[i] = array[j];\n",
        "            array[j] = temp;\n",
        "        }\n",
        "    }\n",
        "\n",
        "    // Creates a copy of an array (solution path)\n",
        "    public int[] copy(int[] solution) {\n",
        "        int[] copy = new int[solution.length];\n",
        "        System.arraycopy(solution, 0, copy, 0, solution.length);\n",
        "        return copy;\n",
        "    }\n",
        "\n",
        "    // Displays the best solution found so far\n",
        "    private void displayBestSolution(int[] bestSolution, double bestCost, long startTime) {\n",
        "        System.out.println(\"Best cost: \" + bestCost);\n",
        "        for (int city : bestSolution) {\n",
        "            System.out.print(city + \"\\t\");\n",
        "        }\n",
        "        System.out.println();\n",
        "        System.out.println(\"Time elapsed: \" + (System.currentTimeMillis() - startTime) / 1000 + \" seconds\\n\");\n",
        "    }\n",
        "\n",
        "    // Main method to run the program\n",
        "    public static void main(String[] args) {\n",
        "        double[][] cost = {\n",
        "            {0, 10, 26, 13, 33, 11, 35, 26, 34, 11, 44, 23, 12, 29, 23, 44},\n",
        "            {25, 0, 33, 20, 31, 12, 28, 33, 32, 12, 15, 19, 44, 45, 44, 10},\n",
        "            {35, 26, 0, 36, 34, 41, 16, 43, 16, 13, 28, 11, 23, 30, 39, 22},\n",
        "            {29, 46, 50, 0, 21, 33, 49, 25, 35, 40, 39, 40, 25, 14, 11, 21},\n",
        "            {38, 31, 21, 11, 0, 21, 32, 19, 50, 26, 50, 32, 47, 24, 38, 21},\n",
        "            {16, 31, 40, 35, 50, 0, 42, 21, 22, 13, 32, 44, 23, 40, 48, 34},\n",
        "            {42, 25, 21, 44, 36, 28, 0, 13, 22, 28, 47, 14, 46, 11, 40, 44},\n",
        "            {26, 31, 32, 19, 13, 37, 30, 0, 26, 31, 34, 30, 15, 36, 10, 15},\n",
        "            {35, 21, 11, 19, 49, 20, 37, 29, 0, 30, 38, 21, 22, 49, 40, 46},\n",
        "            {22, 34, 11, 44, 27, 16, 49, 30, 32, 0, 44, 32, 32, 44, 39, 26},\n",
        "            {33, 41, 34, 49, 46, 37, 50, 38, 45, 11, 0, 39, 27, 32, 15, 26},\n",
        "            {30, 21, 41, 48, 44, 43, 14, 26, 17, 32, 24, 0, 26, 24, 40, 47},\n",
        "            {11, 29, 19, 38, 20, 23, 11, 10, 23, 38, 25, 31, 0, 40, 45, 47},\n",
        "            {13, 46, 40, 30, 32, 47, 19, 29, 40, 24, 32, 23, 32, 0, 28, 36},\n",
        "            {47, 40, 40, 38, 10, 31, 27, 25, 29, 26, 13, 40, 17, 46, 0, 16},\n",
        "            {12, 13, 14, 39, 49, 38, 43, 24, 24, 50, 12, 23, 25, 44, 10, 0}\n",
        "        };\n",
        "\n",
        "        // Initial temperature calculation\n",
        "        double initialTemperature = 0;\n",
        "        for (int i = 0; i < cost.length; i++) {\n",
        "            initialTemperature += 2 * cost[0][i];\n",
        "        }\n",
        "\n",
        "        // Create SaTsp instance and start simulated annealing\n",
        "        SaTsp saTsp = new SaTsp(cost, initialTemperature, 0.99999999, 0.001);\n",
        "    }\n",
        "}\n"
      ],
      "metadata": {
        "id": "8zzg5egavPTv"
      },
      "execution_count": null,
      "outputs": []
    }
  ]
}